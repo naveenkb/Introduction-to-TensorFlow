{
 "cells": [
  {
   "cell_type": "code",
   "execution_count": 1,
   "metadata": {
    "ExecuteTime": {
     "end_time": "2018-07-07T15:02:43.800023Z",
     "start_time": "2018-07-07T15:02:42.759647Z"
    }
   },
   "outputs": [
    {
     "name": "stderr",
     "output_type": "stream",
     "text": [
      "/home/navin/Softwares/anaconda3/lib/python3.6/site-packages/h5py/__init__.py:34: FutureWarning: Conversion of the second argument of issubdtype from `float` to `np.floating` is deprecated. In future, it will be treated as `np.float64 == np.dtype(float).type`.\n",
      "  from ._conv import register_converters as _register_converters\n"
     ]
    }
   ],
   "source": [
    "import tensorflow as tf\n",
    "import numpy as np\n",
    "from sklearn.datasets import load_wine"
   ]
  },
  {
   "cell_type": "code",
   "execution_count": 2,
   "metadata": {
    "ExecuteTime": {
     "end_time": "2018-07-07T15:02:43.805515Z",
     "start_time": "2018-07-07T15:02:43.801334Z"
    },
    "collapsed": true
   },
   "outputs": [],
   "source": [
    "data = load_wine()"
   ]
  },
  {
   "cell_type": "code",
   "execution_count": 5,
   "metadata": {
    "ExecuteTime": {
     "end_time": "2018-07-07T15:02:43.831834Z",
     "start_time": "2018-07-07T15:02:43.826800Z"
    },
    "collapsed": true
   },
   "outputs": [],
   "source": [
    "def construct_features(features):\n",
    "    return [tf.feature_column.numeric_column(f) for f in features]"
   ]
  },
  {
   "cell_type": "code",
   "execution_count": 62,
   "metadata": {
    "ExecuteTime": {
     "end_time": "2018-07-07T15:24:47.985902Z",
     "start_time": "2018-07-07T15:24:47.979016Z"
    }
   },
   "outputs": [
    {
     "name": "stdout",
     "output_type": "stream",
     "text": [
      "INFO:tensorflow:Using default config.\n",
      "WARNING:tensorflow:Using temporary folder as model directory: /tmp/tmpd0hbtdo2\n",
      "INFO:tensorflow:Using config: {'_model_dir': '/tmp/tmpd0hbtdo2', '_tf_random_seed': None, '_save_summary_steps': 100, '_save_checkpoints_steps': None, '_save_checkpoints_secs': 600, '_session_config': None, '_keep_checkpoint_max': 5, '_keep_checkpoint_every_n_hours': 10000, '_log_step_count_steps': 100, '_service': None, '_cluster_spec': <tensorflow.python.training.server_lib.ClusterSpec object at 0x7fd977964208>, '_task_type': 'worker', '_task_id': 0, '_global_id': 0, '_master': '', '_evaluation_master': '', '_is_chief': True, '_num_ps_replicas': 0, '_num_worker_replicas': 1}\n"
     ]
    }
   ],
   "source": [
    "my_optimizer = tf.train.AdamOptimizer()\n",
    "classifier = tf.estimator.DNNClassifier(feature_columns= construct_features(data.feature_names), hidden_units= [10, 10],\n",
    "                                        optimizer=my_optimizer,\n",
    "                                        n_classes = 3)"
   ]
  },
  {
   "cell_type": "code",
   "execution_count": 68,
   "metadata": {
    "ExecuteTime": {
     "end_time": "2018-07-07T15:30:11.750776Z",
     "start_time": "2018-07-07T15:30:11.743856Z"
    },
    "collapsed": true
   },
   "outputs": [],
   "source": [
    "def my_input_fn(data, batch_size, num_epochs, shuffle):\n",
    "    feature_dict = {}\n",
    "    for i in range(len(data.feature_names)):\n",
    "        feature_dict[data.feature_names[i]] = data.data[:,i]\n",
    "    \n",
    "    return tf.estimator.inputs.numpy_input_fn(\n",
    "            x = feature_dict,\n",
    "            y = data.target,\n",
    "            batch_size= batch_size, \n",
    "            num_epochs= num_epochs, \n",
    "            shuffle= shuffle)"
   ]
  },
  {
   "cell_type": "code",
   "execution_count": 69,
   "metadata": {
    "ExecuteTime": {
     "end_time": "2018-07-07T15:30:16.396282Z",
     "start_time": "2018-07-07T15:30:14.508181Z"
    },
    "scrolled": true
   },
   "outputs": [
    {
     "name": "stdout",
     "output_type": "stream",
     "text": [
      "INFO:tensorflow:Calling model_fn.\n",
      "INFO:tensorflow:Done calling model_fn.\n",
      "INFO:tensorflow:Create CheckpointSaverHook.\n",
      "INFO:tensorflow:Graph was finalized.\n",
      "INFO:tensorflow:Restoring parameters from /tmp/tmpd0hbtdo2/model.ckpt-10\n",
      "INFO:tensorflow:Running local_init_op.\n",
      "INFO:tensorflow:Done running local_init_op.\n",
      "INFO:tensorflow:Saving checkpoints for 11 into /tmp/tmpd0hbtdo2/model.ckpt.\n",
      "INFO:tensorflow:loss = 17260.615, step = 11\n",
      "INFO:tensorflow:global_step/sec: 368.302\n",
      "INFO:tensorflow:loss = 734.9106, step = 111 (0.272 sec)\n",
      "INFO:tensorflow:global_step/sec: 442.713\n",
      "INFO:tensorflow:loss = 227.35382, step = 211 (0.226 sec)\n",
      "INFO:tensorflow:global_step/sec: 594.548\n",
      "INFO:tensorflow:loss = 125.10165, step = 311 (0.169 sec)\n",
      "INFO:tensorflow:global_step/sec: 393.583\n",
      "INFO:tensorflow:loss = 122.7675, step = 411 (0.254 sec)\n",
      "INFO:tensorflow:Saving checkpoints for 510 into /tmp/tmpd0hbtdo2/model.ckpt.\n",
      "INFO:tensorflow:Loss for final step: 116.33142.\n"
     ]
    },
    {
     "data": {
      "text/plain": [
       "<tensorflow.python.estimator.canned.dnn.DNNClassifier at 0x7fd9c905bd68>"
      ]
     },
     "execution_count": 69,
     "metadata": {},
     "output_type": "execute_result"
    }
   ],
   "source": [
    "classifier.train(input_fn= my_input_fn(data, 178, 500, True))"
   ]
  },
  {
   "cell_type": "code",
   "execution_count": 78,
   "metadata": {
    "ExecuteTime": {
     "end_time": "2018-07-07T15:35:31.603145Z",
     "start_time": "2018-07-07T15:35:31.078729Z"
    }
   },
   "outputs": [
    {
     "name": "stdout",
     "output_type": "stream",
     "text": [
      "INFO:tensorflow:Calling model_fn.\n",
      "INFO:tensorflow:Done calling model_fn.\n",
      "INFO:tensorflow:Starting evaluation at 2018-07-07-15:35:31\n",
      "INFO:tensorflow:Graph was finalized.\n",
      "INFO:tensorflow:Restoring parameters from /tmp/tmpd0hbtdo2/model.ckpt-510\n",
      "INFO:tensorflow:Running local_init_op.\n",
      "INFO:tensorflow:Done running local_init_op.\n",
      "INFO:tensorflow:Finished evaluation at 2018-07-07-15:35:31\n",
      "INFO:tensorflow:Saving dict for global step 510: accuracy = 0.7022472, average_loss = 0.64571357, global_step = 510, loss = 114.93701\n"
     ]
    }
   ],
   "source": [
    "pred = classifier.evaluate(input_fn= my_input_fn(data, 178, 1, False))"
   ]
  },
  {
   "cell_type": "code",
   "execution_count": 80,
   "metadata": {
    "ExecuteTime": {
     "end_time": "2018-07-07T15:36:28.225538Z",
     "start_time": "2018-07-07T15:36:28.222556Z"
    }
   },
   "outputs": [
    {
     "name": "stdout",
     "output_type": "stream",
     "text": [
      "Train accuracy is 0.7022472023963928 percent\n"
     ]
    }
   ],
   "source": [
    "print(\"Train accuracy is {} percent\".format(pred['accuracy']))"
   ]
  },
  {
   "cell_type": "code",
   "execution_count": 81,
   "metadata": {
    "ExecuteTime": {
     "end_time": "2018-07-07T15:36:36.605279Z",
     "start_time": "2018-07-07T15:36:36.599073Z"
    }
   },
   "outputs": [
    {
     "name": "stdout",
     "output_type": "stream",
     "text": [
      "{'accuracy': 0.7022472, 'average_loss': 0.64571357, 'loss': 114.93701, 'global_step': 510}\n"
     ]
    }
   ],
   "source": [
    "print(pred)"
   ]
  },
  {
   "cell_type": "code",
   "execution_count": null,
   "metadata": {
    "collapsed": true
   },
   "outputs": [],
   "source": []
  }
 ],
 "metadata": {
  "kernelspec": {
   "display_name": "Python 3",
   "language": "python",
   "name": "python3"
  },
  "language_info": {
   "codemirror_mode": {
    "name": "ipython",
    "version": 3
   },
   "file_extension": ".py",
   "mimetype": "text/x-python",
   "name": "python",
   "nbconvert_exporter": "python",
   "pygments_lexer": "ipython3",
   "version": "3.6.3"
  },
  "toc": {
   "nav_menu": {},
   "number_sections": true,
   "sideBar": true,
   "skip_h1_title": false,
   "title_cell": "Table of Contents",
   "title_sidebar": "Contents",
   "toc_cell": false,
   "toc_position": {},
   "toc_section_display": true,
   "toc_window_display": false
  }
 },
 "nbformat": 4,
 "nbformat_minor": 2
}
